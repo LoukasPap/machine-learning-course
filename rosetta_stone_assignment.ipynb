{
 "cells": [
  {
   "cell_type": "markdown",
   "metadata": {},
   "source": [
    "# Exploring the Rosetta Stone of Human Capital\n",
    "\n",
    "In this assignment you will work on the working paper [A Rosetta Stone of Human Capital](https://www.cgdev.org/publication/rosetta-stone-human-capital), by Dev Patel and Justin Sandefur. Before you proceed, make sure to download the paper and read it. See also the related article at [The Economist](https://www.economist.com/graphic-detail/2020/10/03/its-better-to-be-a-poor-pupil-in-a-rich-country-than-the-reverse).\n",
    "\n",
    "As you may know, there are different tests that measure reading and writing skills at school among countries in the world. The problem is that not all countries use the same tests. The basic contribution of the authors was to come up with a way to facilitate conversion between test scores in different countries. In this way they have created what they call a \"Rosetta Stone of Human Capital\", because it allows us to compare human capital across the different countries.\n",
    "\n",
    "---\n",
    "\n",
    "> Panos Louridas, Associate Professor <br />\n",
    "> Department of Management Science and Technology <br />\n",
    "> Athens University of Economics and Business <br />\n",
    "> louridas@aueb.gr\n"
   ]
  },
  {
   "cell_type": "markdown",
   "metadata": {},
   "source": [
    "## Questions\n",
    "\n",
    "The results of the study are available at <https://www.cgdev.org/sites/default/files/patel-sandefur-human-capital-final-results.xlsx>. You will read the file and put the `Country Scores` sheet in a `DataFrame` that we will call here `country_scores`. You will also download the complete replication materials from [here](https://drive.google.com/drive/folders/1p4PCDOBPXkhkP9nIgLSDXatLvPqNwdTh).\n",
    "\n",
    "In addition, you will need the following files:\n",
    "\n",
    "* [US 2000 Census Data](usa_00001.csv.gz). Permission to use the data has been graciously granted by IPUMS USA, and the original publication is: Steven Ruggles, Sarah Flood, Ronald Goeken, Josiah Grover, Erin Meyer, Jose Pacas and Matthew Sobek. IPUMS USA: Version 10.0 [dataset]. Minneapolis, MN: IPUMS, 2020. https://doi.org/10.18128/D010.V10.0.\n",
    "\n",
    "* [BACI (Base Pour L’ Analyse du Commerce International) Country Trade Data](BACI_HS17_Y2018_V202001.csv.gz). The original publication is: BACI: International Trade Database at the Product-Level. The 1994-2007 Version CEPII Working Paper, N°2010-23, Octobre 2010, Guillaume Gaulier, Soledad Zignago.\n",
    "\n",
    "* [Country Codes file](country_codes_V202001.csv), also provided by BACI.\n",
    "\n",
    "### Q1: Income and Test Results\n",
    "\n",
    "You will study the relationship between income and the TIMSS and PIRLS score, as in Section 4.1 and Figure 5 of the original paper.\n",
    "\n",
    "Apart from `country_scores`, you will need the following file:\n",
    "  \n",
    "  * `WDI_data.csv`, which contains income data per country as given by the World Bank. \n",
    "  \n",
    "  Then you should be able to investigate the relationship between logged income and TIMMS, and logged income and PIRLS. Give the summary table of your model. Plot the two relationships, creating plots like the ones shown below."
   ]
  },
  {
   "cell_type": "markdown",
   "metadata": {},
   "source": [
    "![GDP (PPP) and TIMSS](gdp_timss.svg)"
   ]
  },
  {
   "cell_type": "markdown",
   "metadata": {},
   "source": [
    "![GDP (PPP) and PIRLS](gdp_pirls.svg)"
   ]
  },
  {
   "cell_type": "markdown",
   "metadata": {},
   "source": [
    "### Q2: Years of Schooling and Test Scores\n",
    "\n",
    "You will explore how much years of schooling impact test scores, taking account of the per capita income, as in Section 4.1 and Figure 6 of the original paper. To do that, you will need to take the residuals of the models you created in Q1; the residuals contain what cannot be explained by income, so we can use them to see how much of what cannot be explained by income can be explained by years of schooling.\n",
    "\n",
    "Apart from `country_scores`, you will need the following file:\n",
    "\n",
    "* `BL2013_MF1599_v2.2.dta`, which contains average years of schooling data from Barro, Robert J. and Jong-Wha Lee,  A New Data Set of Educational Attainment in the World, 1950-2010, Journal of Development Economics, 2013, 104, 194-198. You will use the values reported for 2010.\n",
    "\n",
    "You already have the residuals for TIMSS and PIRLS; you have to fit a model for the the logged per capita GDP in 2015 (independent variable) and the years of schooling (dependent variable). Show the results of your model and get the residuals. These residuals describe the years of schooling that cannot be explained by income. Then, run a regression between the TIMMS residuals and the schooling residuals, and another regression between the PIRLS residuals and the schooling residuals. Show the model results and figures like the ones below."
   ]
  },
  {
   "cell_type": "markdown",
   "metadata": {},
   "source": [
    "![Schooling and TIMSS](schooling_timms.svg)"
   ]
  },
  {
   "cell_type": "markdown",
   "metadata": {},
   "source": [
    "![Schooling and PIRLS](schooling_pirls.svg)"
   ]
  },
  {
   "cell_type": "markdown",
   "metadata": {},
   "source": [
    "### Q3: Compare New and Previous Estimates\n",
    "\n",
    "To see if the results of the authors make sense, we can compare their scales with other estimates of learning outcomes, as in Section 4.1 and Figure 7 of the original paper.\n",
    "\n",
    "Apart from `country_scores`, you will need the following file:\n",
    "\n",
    "* `HLO Panel Data (mean, thresh) - Jan 2018.dta`, which contains learning outcome estimates from the World Bank, as reported in Altinok, Nadir, Noam Angrist, and Harry Anthony Patrinos, Global Data Set on Education Quality (1965-2015), World Bank Policy Research Working Paper, 2018.\n",
    "\n",
    "The percentage of subjects above the 400 mark is given by the `low_threshold` column in the above file, and this can be used to check the new estimates of the authors. To compare the new and the previous estimates, you will run a Spearman test between the new estimates for TIMSS and the previous estimates, and similarly for PIRLS. Use the latest year for which estimates are available for each country. Report your findings. Then, create two plots like the following."
   ]
  },
  {
   "cell_type": "markdown",
   "metadata": {},
   "source": [
    "![TIMMS and World Bank Indicators](new_timms.svg)"
   ]
  },
  {
   "cell_type": "markdown",
   "metadata": {},
   "source": [
    "![PIRLS and World Bank Indicators](new_pirls.svg)"
   ]
  },
  {
   "cell_type": "markdown",
   "metadata": {},
   "source": [
    "### Q4: Skills Intensity\n",
    "\n",
    "You will study the relationship between the skills of the people in each country and the value of its exports, as described in Section 4.2 of the original paper. You will do this with performing four regressions:\n",
    "\n",
    "$$ \\log(V_{ci}) \\sim \\mathrm{TIMSS}_{c}/1000:\\mathrm{college}_i + i + c $$\n",
    "\n",
    "$$ \\log(V_{ci}) \\sim \\mathrm{PIRLS}_{c}/1000:\\mathrm{college}_i + i + c $$\n",
    "\n",
    "$$ \\log(V_{ci}) \\sim \\mathrm{TIMSS}_{c}/1000:\\mathrm{highschool}_i + i + c $$\n",
    "\n",
    "$$ \\log(V_{ci}) \\sim \\mathrm{PIRLS}_{c}/1000:\\mathrm{highschool}_i + i + c $$\n",
    "\n",
    "In the above:\n",
    "\n",
    "* $V_{ci}$ is the value of export trade for each country ($c$) and industry ($i$)\n",
    "\n",
    "* $\\mathrm{TIMMS}_c$ is the TIMMS score for country $c$, which we divide by 1000 to get a more readable result\n",
    "\n",
    "* $\\mathrm{PIRLS}_c$ is the PIRLS score for country $c$, which we similarly divide by 1000\n",
    "\n",
    "* $\\mathrm{college}_i$ is the portion of employees in industry $i$ with at least a college degree \n",
    "\n",
    "* $\\mathrm{highschool}$ is the portion of employees in industry $i$ with at least a high school degree \n",
    "\n",
    "Report the $R^2$ and the intercept for the interaction terms in each of the models. Note that your values may be different from that of Table 2 of the paper, because the authors perform a lot of data manipulation that you may not do, and they also use a statistical model that is different from the ones we have seen in `statsmodels`. However, the $R^2$ values should be comparable.\n",
    "\n",
    "Running the regression is easy; the tough part is bringing together all the required data in one place. Apart from `country_scores`, you will need the following files:\n",
    "\n",
    "* `usa_00001.csv.gz`\n",
    "\n",
    "* `cw_ind2000_ind1990ddx.dta`\n",
    "\n",
    "* `BACI_HS17_Y2018_V202001.csv.gz`\n",
    "\n",
    "* `cw_hs6_sic87dd.dta`\n",
    "\n",
    "* `cw_sic87_ind1990ddx.dta`\n",
    "\n",
    "* `country_codes_V202001.csv.gz`\n",
    "\n",
    "From the data in `usa_00001.csv.gz` you will identify college graduates, using the rule that they have at least 10 years of education. Similarly, you will identify high school graduates, using the rule that they have at least 6 years of education. For every different industry in the census data, you will calculate the weighted average, for that industry, of college graduates and high school graduates. Note that will have to use the `PERWT` attribute, which shows how many persons in the US population are represented by a given person in the data. Create a `DataFrame` that contains the industry, the weighted average for college graduates, and the weighted average for high school graduates. We'll call that the `skills_intensity_industry` `DataFrame`, as it shows, for every industry the intensity of skills of the people working in that particular industry in the 2000 census.\n",
    "\n",
    "The census data is from 2000 so the data are about the interval from 1990 to 2000. The industry codes for 1990, however, are not the same with the industry codes used in 2000. The `cw_ind2000_ind1990ddx.dta` file maps the industry codes of 2000 to those of 1990, with a weight to account for the differences in the ten years. You will use that file to reweight the weighted averages in `skills_intensity_industry` with the corresponding weight in each mapping. The files beginning with `cw_` are *crosswalk* files, and they come from [David Dorn's web site](https://www.ddorn.net/data.htm).\n",
    "\n",
    "Then you will take on the `BACI_HS17_Y2018_V202001.csv.gz` file. That one contains records showing the exports of different countries in 2018 for different industry sectors. In particular, the columns of the file are:\n",
    "\n",
    "* `t`: year\n",
    "* `i`: exporter (ISO 3-digit country code)\n",
    "* `j`: importer (ISO 3-digit country code)\n",
    "* `k`: product category (Harmonized System, HS, 6-digit code)\n",
    "* `v`: value of the trade flow (in thousands current USD)\n",
    "* `q`: quantity (in metric tons)\n",
    "\n",
    "The HS 6-digit code must be mapped to the industry codes we are using in the rest of the data. This can be done in two steps. First, with the `cw_hs6_sic87dd.dta` you can map the HS 6-digit code with Standard Industrial Codes (SIC) SIC87 industry codes. You will need to adjust the value of the trade flow of the BACI file with the `share` column of `cw_hs6_sic87dd.dta`. After you have done that, group the trade flow by exporter and SIC87 industry code, so that you have the total value per exporter and industry. You will then use the `cw_sic87_ind1990ddx.dta` file to map the SIC87 industry codes to the 1990 census industry codes.\n",
    "\n",
    "There is one last problem. The exporter countries are given with the ISO 3-digit country codes, but we need to three letter country code that is used in the rest of our data. To do the mapping you can use the `country_codes_V202001.csv` file.\n",
    "\n",
    "After all this, you will have a `DataFrame`, let us call it `exports`, which contains, for each country, the value of its exports, per the 2018 year, per industry. Now you can join the `exports` `DataFrame` with the `skills_intensity_industry` `DataFrame` and the `country_scores` `DataFrame`, so that you get for each country, value of exports per industry and the weighted average of high school graduates and college graduates. This will allow you to study the relationship between the value of exports in the country and the skills possessed by the workforce in the country."
   ]
  },
  {
   "cell_type": "markdown",
   "metadata": {},
   "source": [
    "## Submission Instructions\n",
    "\n",
    "You will submit a Jupyter notebook that will contain all your code and analysis. Ensure that the notebook will run correctly in a computer that is not your own. That means, among other things, that it does not contain absolute paths. Remember that a notebook is not a collection of code cells thrown together; it should contain as much text as necessary for a person to understand what you are doing."
   ]
  },
  {
   "cell_type": "markdown",
   "metadata": {},
   "source": [
    "## Honor Code\n",
    "\n",
    "You understand that this is an individual assignment, and as such you must carry it out alone. You may seek help on the Internet, by Googling or searching in StackOverflow for general questions pertaining to the use of Python,  libraries, and idioms. However, it is not right to ask direct questions that relate to the assignment and where people will actually solve your problem by answering them. You may discuss with your fellow students in order to better understand the questions, if they are not clear enough, but you should not ask them to share their answers with you, or to help you by giving specific advice."
   ]
  }
 ],
 "metadata": {
  "kernelspec": {
   "display_name": "Python 3",
   "language": "python",
   "name": "python3"
  },
  "language_info": {
   "codemirror_mode": {
    "name": "ipython",
    "version": 3
   },
   "file_extension": ".py",
   "mimetype": "text/x-python",
   "name": "python",
   "nbconvert_exporter": "python",
   "pygments_lexer": "ipython3",
   "version": "3.8.6"
  }
 },
 "nbformat": 4,
 "nbformat_minor": 2
}
